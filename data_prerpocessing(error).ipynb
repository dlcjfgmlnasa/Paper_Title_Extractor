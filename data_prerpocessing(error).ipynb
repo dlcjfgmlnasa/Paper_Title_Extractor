{
  "nbformat": 4,
  "nbformat_minor": 0,
  "metadata": {
    "colab": {
      "name": "data_prerpocessing.ipynb",
      "provenance": [],
      "collapsed_sections": []
    },
    "kernelspec": {
      "name": "python3",
      "display_name": "Python 3"
    },
    "accelerator": "GPU"
  },
  "cells": [
    {
      "cell_type": "code",
      "metadata": {
        "id": "tx5l26VfXm2r",
        "colab_type": "code",
        "outputId": "c9d3023f-53a2-4312-859b-998f03c3d9cd",
        "colab": {
          "base_uri": "https://localhost:8080/",
          "height": 243
        }
      },
      "source": [
        "import nltk\n",
        "from nltk.tag import pos_tag\n",
        "from nltk.tokenize import word_tokenize\n",
        "!pip install sentencepiece\n",
        "import sentencepiece as spm\n",
        "import torch\n",
        "from torch.utils.data import Dataset,DataLoader\n",
        "\n",
        "nltk.download('punkt')\n",
        "nltk.download('averaged_perceptron_tagger')"
      ],
      "execution_count": 1,
      "outputs": [
        {
          "output_type": "stream",
          "text": [
            "Collecting sentencepiece\n",
            "\u001b[?25l  Downloading https://files.pythonhosted.org/packages/74/f4/2d5214cbf13d06e7cb2c20d84115ca25b53ea76fa1f0ade0e3c9749de214/sentencepiece-0.1.85-cp36-cp36m-manylinux1_x86_64.whl (1.0MB)\n",
            "\r\u001b[K     |▎                               | 10kB 25.8MB/s eta 0:00:01\r\u001b[K     |▋                               | 20kB 2.2MB/s eta 0:00:01\r\u001b[K     |█                               | 30kB 2.8MB/s eta 0:00:01\r\u001b[K     |█▎                              | 40kB 2.1MB/s eta 0:00:01\r\u001b[K     |█▋                              | 51kB 2.3MB/s eta 0:00:01\r\u001b[K     |██                              | 61kB 2.8MB/s eta 0:00:01\r\u001b[K     |██▏                             | 71kB 3.1MB/s eta 0:00:01\r\u001b[K     |██▌                             | 81kB 3.2MB/s eta 0:00:01\r\u001b[K     |██▉                             | 92kB 3.6MB/s eta 0:00:01\r\u001b[K     |███▏                            | 102kB 3.4MB/s eta 0:00:01\r\u001b[K     |███▌                            | 112kB 3.4MB/s eta 0:00:01\r\u001b[K     |███▉                            | 122kB 3.4MB/s eta 0:00:01\r\u001b[K     |████                            | 133kB 3.4MB/s eta 0:00:01\r\u001b[K     |████▍                           | 143kB 3.4MB/s eta 0:00:01\r\u001b[K     |████▊                           | 153kB 3.4MB/s eta 0:00:01\r\u001b[K     |█████                           | 163kB 3.4MB/s eta 0:00:01\r\u001b[K     |█████▍                          | 174kB 3.4MB/s eta 0:00:01\r\u001b[K     |█████▊                          | 184kB 3.4MB/s eta 0:00:01\r\u001b[K     |██████                          | 194kB 3.4MB/s eta 0:00:01\r\u001b[K     |██████▎                         | 204kB 3.4MB/s eta 0:00:01\r\u001b[K     |██████▋                         | 215kB 3.4MB/s eta 0:00:01\r\u001b[K     |███████                         | 225kB 3.4MB/s eta 0:00:01\r\u001b[K     |███████▎                        | 235kB 3.4MB/s eta 0:00:01\r\u001b[K     |███████▋                        | 245kB 3.4MB/s eta 0:00:01\r\u001b[K     |███████▉                        | 256kB 3.4MB/s eta 0:00:01\r\u001b[K     |████████▏                       | 266kB 3.4MB/s eta 0:00:01\r\u001b[K     |████████▌                       | 276kB 3.4MB/s eta 0:00:01\r\u001b[K     |████████▉                       | 286kB 3.4MB/s eta 0:00:01\r\u001b[K     |█████████▏                      | 296kB 3.4MB/s eta 0:00:01\r\u001b[K     |█████████▌                      | 307kB 3.4MB/s eta 0:00:01\r\u001b[K     |█████████▊                      | 317kB 3.4MB/s eta 0:00:01\r\u001b[K     |██████████                      | 327kB 3.4MB/s eta 0:00:01\r\u001b[K     |██████████▍                     | 337kB 3.4MB/s eta 0:00:01\r\u001b[K     |██████████▊                     | 348kB 3.4MB/s eta 0:00:01\r\u001b[K     |███████████                     | 358kB 3.4MB/s eta 0:00:01\r\u001b[K     |███████████▍                    | 368kB 3.4MB/s eta 0:00:01\r\u001b[K     |███████████▋                    | 378kB 3.4MB/s eta 0:00:01\r\u001b[K     |████████████                    | 389kB 3.4MB/s eta 0:00:01\r\u001b[K     |████████████▎                   | 399kB 3.4MB/s eta 0:00:01\r\u001b[K     |████████████▋                   | 409kB 3.4MB/s eta 0:00:01\r\u001b[K     |█████████████                   | 419kB 3.4MB/s eta 0:00:01\r\u001b[K     |█████████████▎                  | 430kB 3.4MB/s eta 0:00:01\r\u001b[K     |█████████████▌                  | 440kB 3.4MB/s eta 0:00:01\r\u001b[K     |█████████████▉                  | 450kB 3.4MB/s eta 0:00:01\r\u001b[K     |██████████████▏                 | 460kB 3.4MB/s eta 0:00:01\r\u001b[K     |██████████████▌                 | 471kB 3.4MB/s eta 0:00:01\r\u001b[K     |██████████████▉                 | 481kB 3.4MB/s eta 0:00:01\r\u001b[K     |███████████████▏                | 491kB 3.4MB/s eta 0:00:01\r\u001b[K     |███████████████▍                | 501kB 3.4MB/s eta 0:00:01\r\u001b[K     |███████████████▊                | 512kB 3.4MB/s eta 0:00:01\r\u001b[K     |████████████████                | 522kB 3.4MB/s eta 0:00:01\r\u001b[K     |████████████████▍               | 532kB 3.4MB/s eta 0:00:01\r\u001b[K     |████████████████▊               | 542kB 3.4MB/s eta 0:00:01\r\u001b[K     |█████████████████               | 552kB 3.4MB/s eta 0:00:01\r\u001b[K     |█████████████████▎              | 563kB 3.4MB/s eta 0:00:01\r\u001b[K     |█████████████████▋              | 573kB 3.4MB/s eta 0:00:01\r\u001b[K     |██████████████████              | 583kB 3.4MB/s eta 0:00:01\r\u001b[K     |██████████████████▎             | 593kB 3.4MB/s eta 0:00:01\r\u001b[K     |██████████████████▋             | 604kB 3.4MB/s eta 0:00:01\r\u001b[K     |███████████████████             | 614kB 3.4MB/s eta 0:00:01\r\u001b[K     |███████████████████▏            | 624kB 3.4MB/s eta 0:00:01\r\u001b[K     |███████████████████▌            | 634kB 3.4MB/s eta 0:00:01\r\u001b[K     |███████████████████▉            | 645kB 3.4MB/s eta 0:00:01\r\u001b[K     |████████████████████▏           | 655kB 3.4MB/s eta 0:00:01\r\u001b[K     |████████████████████▌           | 665kB 3.4MB/s eta 0:00:01\r\u001b[K     |████████████████████▉           | 675kB 3.4MB/s eta 0:00:01\r\u001b[K     |█████████████████████▏          | 686kB 3.4MB/s eta 0:00:01\r\u001b[K     |█████████████████████▍          | 696kB 3.4MB/s eta 0:00:01\r\u001b[K     |█████████████████████▊          | 706kB 3.4MB/s eta 0:00:01\r\u001b[K     |██████████████████████          | 716kB 3.4MB/s eta 0:00:01\r\u001b[K     |██████████████████████▍         | 727kB 3.4MB/s eta 0:00:01\r\u001b[K     |██████████████████████▊         | 737kB 3.4MB/s eta 0:00:01\r\u001b[K     |███████████████████████         | 747kB 3.4MB/s eta 0:00:01\r\u001b[K     |███████████████████████▎        | 757kB 3.4MB/s eta 0:00:01\r\u001b[K     |███████████████████████▋        | 768kB 3.4MB/s eta 0:00:01\r\u001b[K     |████████████████████████        | 778kB 3.4MB/s eta 0:00:01\r\u001b[K     |████████████████████████▎       | 788kB 3.4MB/s eta 0:00:01\r\u001b[K     |████████████████████████▋       | 798kB 3.4MB/s eta 0:00:01\r\u001b[K     |█████████████████████████       | 808kB 3.4MB/s eta 0:00:01\r\u001b[K     |█████████████████████████▏      | 819kB 3.4MB/s eta 0:00:01\r\u001b[K     |█████████████████████████▌      | 829kB 3.4MB/s eta 0:00:01\r\u001b[K     |█████████████████████████▉      | 839kB 3.4MB/s eta 0:00:01\r\u001b[K     |██████████████████████████▏     | 849kB 3.4MB/s eta 0:00:01\r\u001b[K     |██████████████████████████▌     | 860kB 3.4MB/s eta 0:00:01\r\u001b[K     |██████████████████████████▉     | 870kB 3.4MB/s eta 0:00:01\r\u001b[K     |███████████████████████████     | 880kB 3.4MB/s eta 0:00:01\r\u001b[K     |███████████████████████████▍    | 890kB 3.4MB/s eta 0:00:01\r\u001b[K     |███████████████████████████▊    | 901kB 3.4MB/s eta 0:00:01\r\u001b[K     |████████████████████████████    | 911kB 3.4MB/s eta 0:00:01\r\u001b[K     |████████████████████████████▍   | 921kB 3.4MB/s eta 0:00:01\r\u001b[K     |████████████████████████████▊   | 931kB 3.4MB/s eta 0:00:01\r\u001b[K     |█████████████████████████████   | 942kB 3.4MB/s eta 0:00:01\r\u001b[K     |█████████████████████████████▎  | 952kB 3.4MB/s eta 0:00:01\r\u001b[K     |█████████████████████████████▋  | 962kB 3.4MB/s eta 0:00:01\r\u001b[K     |██████████████████████████████  | 972kB 3.4MB/s eta 0:00:01\r\u001b[K     |██████████████████████████████▎ | 983kB 3.4MB/s eta 0:00:01\r\u001b[K     |██████████████████████████████▋ | 993kB 3.4MB/s eta 0:00:01\r\u001b[K     |██████████████████████████████▉ | 1.0MB 3.4MB/s eta 0:00:01\r\u001b[K     |███████████████████████████████▏| 1.0MB 3.4MB/s eta 0:00:01\r\u001b[K     |███████████████████████████████▌| 1.0MB 3.4MB/s eta 0:00:01\r\u001b[K     |███████████████████████████████▉| 1.0MB 3.4MB/s eta 0:00:01\r\u001b[K     |████████████████████████████████| 1.0MB 3.4MB/s \n",
            "\u001b[?25hInstalling collected packages: sentencepiece\n",
            "Successfully installed sentencepiece-0.1.85\n",
            "[nltk_data] Downloading package punkt to /root/nltk_data...\n",
            "[nltk_data]   Unzipping tokenizers/punkt.zip.\n",
            "[nltk_data] Downloading package averaged_perceptron_tagger to\n",
            "[nltk_data]     /root/nltk_data...\n",
            "[nltk_data]   Unzipping taggers/averaged_perceptron_tagger.zip.\n"
          ],
          "name": "stdout"
        },
        {
          "output_type": "execute_result",
          "data": {
            "text/plain": [
              "True"
            ]
          },
          "metadata": {
            "tags": []
          },
          "execution_count": 1
        }
      ]
    },
    {
      "cell_type": "code",
      "metadata": {
        "id": "KyxVEbMGmTMw",
        "colab_type": "code",
        "colab": {}
      },
      "source": [
        "class Vocabulary:\n",
        "  def __init__(self, path):\n",
        "    self.paper = open(path, 'r').readlines()\n",
        "    self.word2idx = {}\n",
        "    self.word2count = {}\n",
        "    self.idx2word = {'PAD_token': '<pad>', 'SOS_token': '<s>', 'EOS_token': '</s>'}\n",
        "    self.num_words = 3\n",
        "    self.longest_sentence = 0\n",
        "\n",
        "  def postag(self, file):\n",
        "    tag = [pos_tag(word_tokenize(f)) for f in file]\n",
        "    tag[0].append(['[TITLE]'])\n",
        "    tag[1].append(['[SEP]'])\n",
        "    tags = []\n",
        "    for sent in file:\n",
        "      for word in sent:\n",
        "        tags.append('/'.join(word))\n",
        "\n",
        "    return tags\n",
        "\n",
        "  def add_word(self, word):\n",
        "    if word not in self.word2idx:\n",
        "      self.word2idx[word] = self.num_words\n",
        "      self.idx2word[self.num_words] = word\n",
        "      self.num_words += 1\n",
        "\n",
        "  def to_word(self, idx):\n",
        "    return self.idx2word[idx]\n",
        "  \n",
        "  def to_idx(self, word):\n",
        "    return self.word2idx[word]\n",
        "\n",
        "  def __call__(self):\n",
        "    for sent in self.postag(self.paper):\n",
        "      for word in sent:\n",
        "        self.add_word(word)\n",
        "\n",
        "a = Vocabulary(path = 'drive/My Drive/Paper_Title_Extractor/data/train.dat')\n",
        "a()"
      ],
      "execution_count": 0,
      "outputs": []
    },
    {
      "cell_type": "code",
      "metadata": {
        "id": "O18tyrV7Xv2K",
        "colab_type": "code",
        "colab": {
          "base_uri": "https://localhost:8080/",
          "height": 213
        },
        "outputId": "32587352-ab57-40f4-ee4f-f84b97021ce3"
      },
      "source": [
        "class PaperDataset(Dataset):\n",
        "  def __init__(self, path, title_size, contents_size):\n",
        "    self.paper = open(path, 'r').readlines()\n",
        "    self.title_size = title_size\n",
        "    self.contents_size = contents_size\n",
        "    self.bos_id = '<s>'\n",
        "    self.eos_id = '<s/>'\n",
        "    self.pad_id = '<pad>'\n",
        "\n",
        "  def __getitem__(self, index):\n",
        "    line = self.paper[index]\n",
        "    title, contents = line.split('\\t')\n",
        "    \n",
        "    tag_title = self.postag(title)\n",
        "    tag_contents = self.postag(contents)\n",
        "    idx_title = self.idx(self, tag_title, self.title_size)\n",
        "    idx_contents = self.idx(self, tag_contents, self.contents_size)\n",
        "    return idx_title, idx_contents\n",
        "\n",
        "  def __len__(self):\n",
        "    return len(self.paper)\n",
        "\n",
        "  def postag(self, file):\n",
        "    tag = [pos_tag(word_tokenize(word)) for word in file]\n",
        "    return '/'.join(tag).item()\n",
        "\n",
        "  def idx(self, file, type):\n",
        "    for word in file:\n",
        "      idx = Vocabulary.to_idx(word)\n",
        "      idx_pad = self.padding(self, idx, type)\n",
        "    return idx_pad\n",
        "\n",
        "  def padding(self, size, type):\n",
        "    if len(size) >= type:\n",
        "      size = size[:type]\n",
        "    else:\n",
        "      remainder_size = type - len(size)\n",
        "      pad = [self.pad_id for none in range(remainder_size)]\n",
        "      size = size + pad\n",
        "    return size\n",
        "\n",
        "dataset = PaperDataset(path = 'drive/My Drive/Paper_Title_Extractor/data/train.dat',\n",
        "                         title_size = 8,\n",
        "                         contents_size = 200)\n",
        "\n"
      ],
      "execution_count": 29,
      "outputs": [
        {
          "output_type": "error",
          "ename": "TypeError",
          "evalue": "ignored",
          "traceback": [
            "\u001b[0;31m---------------------------------------------------------------------------\u001b[0m",
            "\u001b[0;31mTypeError\u001b[0m                                 Traceback (most recent call last)",
            "\u001b[0;32m<ipython-input-29-29693b609afb>\u001b[0m in \u001b[0;36m<module>\u001b[0;34m()\u001b[0m\n\u001b[1;32m     45\u001b[0m                          contents_size = 200)\n\u001b[1;32m     46\u001b[0m \u001b[0;34m\u001b[0m\u001b[0m\n\u001b[0;32m---> 47\u001b[0;31m \u001b[0mprint\u001b[0m\u001b[0;34m(\u001b[0m\u001b[0mdataset\u001b[0m\u001b[0;34m(\u001b[0m\u001b[0;34m)\u001b[0m\u001b[0;34m)\u001b[0m\u001b[0;34m\u001b[0m\u001b[0;34m\u001b[0m\u001b[0m\n\u001b[0m",
            "\u001b[0;31mTypeError\u001b[0m: 'PaperDataset' object is not callable"
          ]
        }
      ]
    },
    {
      "cell_type": "code",
      "metadata": {
        "id": "ESz6QV2oXQrR",
        "colab_type": "code",
        "colab": {}
      },
      "source": [
        "def data_loader():\n",
        "  dataset = PaperDataset(path = 'drive/My Drive/Paper_Title_Extractor/data/train.dat',\n",
        "                         title_size = 8,\n",
        "                         contents_size = 200)\n",
        "  \n",
        "  data_load = DataLoader(dataset = dataset, batch_size = 100, shuffle = True)\n",
        "  \n",
        "  return data_load\n",
        "\n",
        "a = data_loader()\n",
        "a()"
      ],
      "execution_count": 0,
      "outputs": []
    }
  ]
}